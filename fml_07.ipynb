{
  "cells": [
    {
      "cell_type": "markdown",
      "id": "30b61190-61c1-4dd2-a9ec-acbadc8a52ef",
      "metadata": {
        "tags": [],
        "id": "30b61190-61c1-4dd2-a9ec-acbadc8a52ef"
      },
      "source": [
        "# Fundamentals of Machine Learning - Exercise 7\n",
        "Goal of the excercise is to code selected part of the Decision tree algorithm which is focused on the optimum split part using gini index.\n",
        "\n",
        "After that the scikit-learn implementation of the Decision tree basic usage will be demonstrated.\n",
        "\n",
        "![meme02](https://github.com/rasvob/VSB-FEI-Fundamentals-of-Machine-Learning-Exercises/blob/master/images/fml_07_meme_02.jpg?raw=true)\n"
      ]
    },
    {
      "cell_type": "code",
      "execution_count": 1,
      "id": "a70c5553-ad01-4d43-93fb-50c085f09a64",
      "metadata": {
        "id": "a70c5553-ad01-4d43-93fb-50c085f09a64"
      },
      "outputs": [],
      "source": [
        "import numpy as np\n",
        "import pandas as pd\n",
        "import seaborn as sns\n",
        "import matplotlib.pyplot as plt\n",
        "import math"
      ]
    },
    {
      "cell_type": "markdown",
      "id": "2d685ada-68b5-474a-84d5-5bfacd4a9eca",
      "metadata": {
        "tags": [],
        "id": "2d685ada-68b5-474a-84d5-5bfacd4a9eca"
      },
      "source": [
        "## Load the *Iris* dataset\n",
        "https://archive.ics.uci.edu/dataset/53/iris\n",
        "* One of the earliest datasets used in the literature on classification methods and widely used in statistics and machine learning.\n",
        "* The data set contains 3 classes of 50 instances each, where each class refers to a type of iris plant.\n",
        "* One class is linearly separable from the other 2 - the latter are not linearly separable from each other.uted?"
      ]
    },
    {
      "cell_type": "markdown",
      "id": "d5164551-7881-46fc-84b9-85781099fd8a",
      "metadata": {
        "id": "d5164551-7881-46fc-84b9-85781099fd8a"
      },
      "source": [
        "|Variable Name | Role | Type | Units |\n",
        "|:-------|:-------|:-------|:-------|\n",
        "|sepal length | Feature | Continuous | cm |\n",
        "|sepal width | Feature | Continuous | cm |\n",
        "|petal length | Feature | Continuous | cm |\n",
        "|petal width | Feature | Continuous | cm |\n",
        "|class | Target | Categorical | Iris Setosa, Iris Versicolour, or Iris Virginica |"
      ]
    },
    {
      "cell_type": "code",
      "execution_count": 2,
      "id": "0b9043cd-4e41-40b0-93e1-712d94d122b3",
      "metadata": {
        "id": "0b9043cd-4e41-40b0-93e1-712d94d122b3",
        "outputId": "7dc6397d-3e7e-4359-d0af-dea5823d5193",
        "colab": {
          "base_uri": "https://localhost:8080/",
          "height": 424
        }
      },
      "outputs": [
        {
          "output_type": "execute_result",
          "data": {
            "text/plain": [
              "     sepal_length  sepal_width  petal_length  petal_width    species\n",
              "0             5.1          3.5           1.4          0.2     setosa\n",
              "1             4.9          3.0           1.4          0.2     setosa\n",
              "2             4.7          3.2           1.3          0.2     setosa\n",
              "3             4.6          3.1           1.5          0.2     setosa\n",
              "4             5.0          3.6           1.4          0.2     setosa\n",
              "..            ...          ...           ...          ...        ...\n",
              "145           6.7          3.0           5.2          2.3  virginica\n",
              "146           6.3          2.5           5.0          1.9  virginica\n",
              "147           6.5          3.0           5.2          2.0  virginica\n",
              "148           6.2          3.4           5.4          2.3  virginica\n",
              "149           5.9          3.0           5.1          1.8  virginica\n",
              "\n",
              "[150 rows x 5 columns]"
            ],
            "text/html": [
              "\n",
              "  <div id=\"df-880da1a9-27b1-484e-8084-2cbfa3195687\" class=\"colab-df-container\">\n",
              "    <div>\n",
              "<style scoped>\n",
              "    .dataframe tbody tr th:only-of-type {\n",
              "        vertical-align: middle;\n",
              "    }\n",
              "\n",
              "    .dataframe tbody tr th {\n",
              "        vertical-align: top;\n",
              "    }\n",
              "\n",
              "    .dataframe thead th {\n",
              "        text-align: right;\n",
              "    }\n",
              "</style>\n",
              "<table border=\"1\" class=\"dataframe\">\n",
              "  <thead>\n",
              "    <tr style=\"text-align: right;\">\n",
              "      <th></th>\n",
              "      <th>sepal_length</th>\n",
              "      <th>sepal_width</th>\n",
              "      <th>petal_length</th>\n",
              "      <th>petal_width</th>\n",
              "      <th>species</th>\n",
              "    </tr>\n",
              "  </thead>\n",
              "  <tbody>\n",
              "    <tr>\n",
              "      <th>0</th>\n",
              "      <td>5.1</td>\n",
              "      <td>3.5</td>\n",
              "      <td>1.4</td>\n",
              "      <td>0.2</td>\n",
              "      <td>setosa</td>\n",
              "    </tr>\n",
              "    <tr>\n",
              "      <th>1</th>\n",
              "      <td>4.9</td>\n",
              "      <td>3.0</td>\n",
              "      <td>1.4</td>\n",
              "      <td>0.2</td>\n",
              "      <td>setosa</td>\n",
              "    </tr>\n",
              "    <tr>\n",
              "      <th>2</th>\n",
              "      <td>4.7</td>\n",
              "      <td>3.2</td>\n",
              "      <td>1.3</td>\n",
              "      <td>0.2</td>\n",
              "      <td>setosa</td>\n",
              "    </tr>\n",
              "    <tr>\n",
              "      <th>3</th>\n",
              "      <td>4.6</td>\n",
              "      <td>3.1</td>\n",
              "      <td>1.5</td>\n",
              "      <td>0.2</td>\n",
              "      <td>setosa</td>\n",
              "    </tr>\n",
              "    <tr>\n",
              "      <th>4</th>\n",
              "      <td>5.0</td>\n",
              "      <td>3.6</td>\n",
              "      <td>1.4</td>\n",
              "      <td>0.2</td>\n",
              "      <td>setosa</td>\n",
              "    </tr>\n",
              "    <tr>\n",
              "      <th>...</th>\n",
              "      <td>...</td>\n",
              "      <td>...</td>\n",
              "      <td>...</td>\n",
              "      <td>...</td>\n",
              "      <td>...</td>\n",
              "    </tr>\n",
              "    <tr>\n",
              "      <th>145</th>\n",
              "      <td>6.7</td>\n",
              "      <td>3.0</td>\n",
              "      <td>5.2</td>\n",
              "      <td>2.3</td>\n",
              "      <td>virginica</td>\n",
              "    </tr>\n",
              "    <tr>\n",
              "      <th>146</th>\n",
              "      <td>6.3</td>\n",
              "      <td>2.5</td>\n",
              "      <td>5.0</td>\n",
              "      <td>1.9</td>\n",
              "      <td>virginica</td>\n",
              "    </tr>\n",
              "    <tr>\n",
              "      <th>147</th>\n",
              "      <td>6.5</td>\n",
              "      <td>3.0</td>\n",
              "      <td>5.2</td>\n",
              "      <td>2.0</td>\n",
              "      <td>virginica</td>\n",
              "    </tr>\n",
              "    <tr>\n",
              "      <th>148</th>\n",
              "      <td>6.2</td>\n",
              "      <td>3.4</td>\n",
              "      <td>5.4</td>\n",
              "      <td>2.3</td>\n",
              "      <td>virginica</td>\n",
              "    </tr>\n",
              "    <tr>\n",
              "      <th>149</th>\n",
              "      <td>5.9</td>\n",
              "      <td>3.0</td>\n",
              "      <td>5.1</td>\n",
              "      <td>1.8</td>\n",
              "      <td>virginica</td>\n",
              "    </tr>\n",
              "  </tbody>\n",
              "</table>\n",
              "<p>150 rows × 5 columns</p>\n",
              "</div>\n",
              "    <div class=\"colab-df-buttons\">\n",
              "\n",
              "  <div class=\"colab-df-container\">\n",
              "    <button class=\"colab-df-convert\" onclick=\"convertToInteractive('df-880da1a9-27b1-484e-8084-2cbfa3195687')\"\n",
              "            title=\"Convert this dataframe to an interactive table.\"\n",
              "            style=\"display:none;\">\n",
              "\n",
              "  <svg xmlns=\"http://www.w3.org/2000/svg\" height=\"24px\" viewBox=\"0 -960 960 960\">\n",
              "    <path d=\"M120-120v-720h720v720H120Zm60-500h600v-160H180v160Zm220 220h160v-160H400v160Zm0 220h160v-160H400v160ZM180-400h160v-160H180v160Zm440 0h160v-160H620v160ZM180-180h160v-160H180v160Zm440 0h160v-160H620v160Z\"/>\n",
              "  </svg>\n",
              "    </button>\n",
              "\n",
              "  <style>\n",
              "    .colab-df-container {\n",
              "      display:flex;\n",
              "      gap: 12px;\n",
              "    }\n",
              "\n",
              "    .colab-df-convert {\n",
              "      background-color: #E8F0FE;\n",
              "      border: none;\n",
              "      border-radius: 50%;\n",
              "      cursor: pointer;\n",
              "      display: none;\n",
              "      fill: #1967D2;\n",
              "      height: 32px;\n",
              "      padding: 0 0 0 0;\n",
              "      width: 32px;\n",
              "    }\n",
              "\n",
              "    .colab-df-convert:hover {\n",
              "      background-color: #E2EBFA;\n",
              "      box-shadow: 0px 1px 2px rgba(60, 64, 67, 0.3), 0px 1px 3px 1px rgba(60, 64, 67, 0.15);\n",
              "      fill: #174EA6;\n",
              "    }\n",
              "\n",
              "    .colab-df-buttons div {\n",
              "      margin-bottom: 4px;\n",
              "    }\n",
              "\n",
              "    [theme=dark] .colab-df-convert {\n",
              "      background-color: #3B4455;\n",
              "      fill: #D2E3FC;\n",
              "    }\n",
              "\n",
              "    [theme=dark] .colab-df-convert:hover {\n",
              "      background-color: #434B5C;\n",
              "      box-shadow: 0px 1px 3px 1px rgba(0, 0, 0, 0.15);\n",
              "      filter: drop-shadow(0px 1px 2px rgba(0, 0, 0, 0.3));\n",
              "      fill: #FFFFFF;\n",
              "    }\n",
              "  </style>\n",
              "\n",
              "    <script>\n",
              "      const buttonEl =\n",
              "        document.querySelector('#df-880da1a9-27b1-484e-8084-2cbfa3195687 button.colab-df-convert');\n",
              "      buttonEl.style.display =\n",
              "        google.colab.kernel.accessAllowed ? 'block' : 'none';\n",
              "\n",
              "      async function convertToInteractive(key) {\n",
              "        const element = document.querySelector('#df-880da1a9-27b1-484e-8084-2cbfa3195687');\n",
              "        const dataTable =\n",
              "          await google.colab.kernel.invokeFunction('convertToInteractive',\n",
              "                                                    [key], {});\n",
              "        if (!dataTable) return;\n",
              "\n",
              "        const docLinkHtml = 'Like what you see? Visit the ' +\n",
              "          '<a target=\"_blank\" href=https://colab.research.google.com/notebooks/data_table.ipynb>data table notebook</a>'\n",
              "          + ' to learn more about interactive tables.';\n",
              "        element.innerHTML = '';\n",
              "        dataTable['output_type'] = 'display_data';\n",
              "        await google.colab.output.renderOutput(dataTable, element);\n",
              "        const docLink = document.createElement('div');\n",
              "        docLink.innerHTML = docLinkHtml;\n",
              "        element.appendChild(docLink);\n",
              "      }\n",
              "    </script>\n",
              "  </div>\n",
              "\n",
              "\n",
              "<div id=\"df-9b163a62-9a6d-41e3-b4c6-4a40df72a75e\">\n",
              "  <button class=\"colab-df-quickchart\" onclick=\"quickchart('df-9b163a62-9a6d-41e3-b4c6-4a40df72a75e')\"\n",
              "            title=\"Suggest charts\"\n",
              "            style=\"display:none;\">\n",
              "\n",
              "<svg xmlns=\"http://www.w3.org/2000/svg\" height=\"24px\"viewBox=\"0 0 24 24\"\n",
              "     width=\"24px\">\n",
              "    <g>\n",
              "        <path d=\"M19 3H5c-1.1 0-2 .9-2 2v14c0 1.1.9 2 2 2h14c1.1 0 2-.9 2-2V5c0-1.1-.9-2-2-2zM9 17H7v-7h2v7zm4 0h-2V7h2v10zm4 0h-2v-4h2v4z\"/>\n",
              "    </g>\n",
              "</svg>\n",
              "  </button>\n",
              "\n",
              "<style>\n",
              "  .colab-df-quickchart {\n",
              "      --bg-color: #E8F0FE;\n",
              "      --fill-color: #1967D2;\n",
              "      --hover-bg-color: #E2EBFA;\n",
              "      --hover-fill-color: #174EA6;\n",
              "      --disabled-fill-color: #AAA;\n",
              "      --disabled-bg-color: #DDD;\n",
              "  }\n",
              "\n",
              "  [theme=dark] .colab-df-quickchart {\n",
              "      --bg-color: #3B4455;\n",
              "      --fill-color: #D2E3FC;\n",
              "      --hover-bg-color: #434B5C;\n",
              "      --hover-fill-color: #FFFFFF;\n",
              "      --disabled-bg-color: #3B4455;\n",
              "      --disabled-fill-color: #666;\n",
              "  }\n",
              "\n",
              "  .colab-df-quickchart {\n",
              "    background-color: var(--bg-color);\n",
              "    border: none;\n",
              "    border-radius: 50%;\n",
              "    cursor: pointer;\n",
              "    display: none;\n",
              "    fill: var(--fill-color);\n",
              "    height: 32px;\n",
              "    padding: 0;\n",
              "    width: 32px;\n",
              "  }\n",
              "\n",
              "  .colab-df-quickchart:hover {\n",
              "    background-color: var(--hover-bg-color);\n",
              "    box-shadow: 0 1px 2px rgba(60, 64, 67, 0.3), 0 1px 3px 1px rgba(60, 64, 67, 0.15);\n",
              "    fill: var(--button-hover-fill-color);\n",
              "  }\n",
              "\n",
              "  .colab-df-quickchart-complete:disabled,\n",
              "  .colab-df-quickchart-complete:disabled:hover {\n",
              "    background-color: var(--disabled-bg-color);\n",
              "    fill: var(--disabled-fill-color);\n",
              "    box-shadow: none;\n",
              "  }\n",
              "\n",
              "  .colab-df-spinner {\n",
              "    border: 2px solid var(--fill-color);\n",
              "    border-color: transparent;\n",
              "    border-bottom-color: var(--fill-color);\n",
              "    animation:\n",
              "      spin 1s steps(1) infinite;\n",
              "  }\n",
              "\n",
              "  @keyframes spin {\n",
              "    0% {\n",
              "      border-color: transparent;\n",
              "      border-bottom-color: var(--fill-color);\n",
              "      border-left-color: var(--fill-color);\n",
              "    }\n",
              "    20% {\n",
              "      border-color: transparent;\n",
              "      border-left-color: var(--fill-color);\n",
              "      border-top-color: var(--fill-color);\n",
              "    }\n",
              "    30% {\n",
              "      border-color: transparent;\n",
              "      border-left-color: var(--fill-color);\n",
              "      border-top-color: var(--fill-color);\n",
              "      border-right-color: var(--fill-color);\n",
              "    }\n",
              "    40% {\n",
              "      border-color: transparent;\n",
              "      border-right-color: var(--fill-color);\n",
              "      border-top-color: var(--fill-color);\n",
              "    }\n",
              "    60% {\n",
              "      border-color: transparent;\n",
              "      border-right-color: var(--fill-color);\n",
              "    }\n",
              "    80% {\n",
              "      border-color: transparent;\n",
              "      border-right-color: var(--fill-color);\n",
              "      border-bottom-color: var(--fill-color);\n",
              "    }\n",
              "    90% {\n",
              "      border-color: transparent;\n",
              "      border-bottom-color: var(--fill-color);\n",
              "    }\n",
              "  }\n",
              "</style>\n",
              "\n",
              "  <script>\n",
              "    async function quickchart(key) {\n",
              "      const quickchartButtonEl =\n",
              "        document.querySelector('#' + key + ' button');\n",
              "      quickchartButtonEl.disabled = true;  // To prevent multiple clicks.\n",
              "      quickchartButtonEl.classList.add('colab-df-spinner');\n",
              "      try {\n",
              "        const charts = await google.colab.kernel.invokeFunction(\n",
              "            'suggestCharts', [key], {});\n",
              "      } catch (error) {\n",
              "        console.error('Error during call to suggestCharts:', error);\n",
              "      }\n",
              "      quickchartButtonEl.classList.remove('colab-df-spinner');\n",
              "      quickchartButtonEl.classList.add('colab-df-quickchart-complete');\n",
              "    }\n",
              "    (() => {\n",
              "      let quickchartButtonEl =\n",
              "        document.querySelector('#df-9b163a62-9a6d-41e3-b4c6-4a40df72a75e button');\n",
              "      quickchartButtonEl.style.display =\n",
              "        google.colab.kernel.accessAllowed ? 'block' : 'none';\n",
              "    })();\n",
              "  </script>\n",
              "</div>\n",
              "\n",
              "  <div id=\"id_3c768214-0649-40b1-9550-e96c3d68610b\">\n",
              "    <style>\n",
              "      .colab-df-generate {\n",
              "        background-color: #E8F0FE;\n",
              "        border: none;\n",
              "        border-radius: 50%;\n",
              "        cursor: pointer;\n",
              "        display: none;\n",
              "        fill: #1967D2;\n",
              "        height: 32px;\n",
              "        padding: 0 0 0 0;\n",
              "        width: 32px;\n",
              "      }\n",
              "\n",
              "      .colab-df-generate:hover {\n",
              "        background-color: #E2EBFA;\n",
              "        box-shadow: 0px 1px 2px rgba(60, 64, 67, 0.3), 0px 1px 3px 1px rgba(60, 64, 67, 0.15);\n",
              "        fill: #174EA6;\n",
              "      }\n",
              "\n",
              "      [theme=dark] .colab-df-generate {\n",
              "        background-color: #3B4455;\n",
              "        fill: #D2E3FC;\n",
              "      }\n",
              "\n",
              "      [theme=dark] .colab-df-generate:hover {\n",
              "        background-color: #434B5C;\n",
              "        box-shadow: 0px 1px 3px 1px rgba(0, 0, 0, 0.15);\n",
              "        filter: drop-shadow(0px 1px 2px rgba(0, 0, 0, 0.3));\n",
              "        fill: #FFFFFF;\n",
              "      }\n",
              "    </style>\n",
              "    <button class=\"colab-df-generate\" onclick=\"generateWithVariable('df')\"\n",
              "            title=\"Generate code using this dataframe.\"\n",
              "            style=\"display:none;\">\n",
              "\n",
              "  <svg xmlns=\"http://www.w3.org/2000/svg\" height=\"24px\"viewBox=\"0 0 24 24\"\n",
              "       width=\"24px\">\n",
              "    <path d=\"M7,19H8.4L18.45,9,17,7.55,7,17.6ZM5,21V16.75L18.45,3.32a2,2,0,0,1,2.83,0l1.4,1.43a1.91,1.91,0,0,1,.58,1.4,1.91,1.91,0,0,1-.58,1.4L9.25,21ZM18.45,9,17,7.55Zm-12,3A5.31,5.31,0,0,0,4.9,8.1,5.31,5.31,0,0,0,1,6.5,5.31,5.31,0,0,0,4.9,4.9,5.31,5.31,0,0,0,6.5,1,5.31,5.31,0,0,0,8.1,4.9,5.31,5.31,0,0,0,12,6.5,5.46,5.46,0,0,0,6.5,12Z\"/>\n",
              "  </svg>\n",
              "    </button>\n",
              "    <script>\n",
              "      (() => {\n",
              "      const buttonEl =\n",
              "        document.querySelector('#id_3c768214-0649-40b1-9550-e96c3d68610b button.colab-df-generate');\n",
              "      buttonEl.style.display =\n",
              "        google.colab.kernel.accessAllowed ? 'block' : 'none';\n",
              "\n",
              "      buttonEl.onclick = () => {\n",
              "        google.colab.notebook.generateWithVariable('df');\n",
              "      }\n",
              "      })();\n",
              "    </script>\n",
              "  </div>\n",
              "\n",
              "    </div>\n",
              "  </div>\n"
            ],
            "application/vnd.google.colaboratory.intrinsic+json": {
              "type": "dataframe",
              "variable_name": "df",
              "summary": "{\n  \"name\": \"df\",\n  \"rows\": 150,\n  \"fields\": [\n    {\n      \"column\": \"sepal_length\",\n      \"properties\": {\n        \"dtype\": \"number\",\n        \"std\": 0.8280661279778629,\n        \"min\": 4.3,\n        \"max\": 7.9,\n        \"num_unique_values\": 35,\n        \"samples\": [\n          6.2,\n          4.5,\n          5.6\n        ],\n        \"semantic_type\": \"\",\n        \"description\": \"\"\n      }\n    },\n    {\n      \"column\": \"sepal_width\",\n      \"properties\": {\n        \"dtype\": \"number\",\n        \"std\": 0.4335943113621737,\n        \"min\": 2.0,\n        \"max\": 4.4,\n        \"num_unique_values\": 23,\n        \"samples\": [\n          2.3,\n          4.0,\n          3.5\n        ],\n        \"semantic_type\": \"\",\n        \"description\": \"\"\n      }\n    },\n    {\n      \"column\": \"petal_length\",\n      \"properties\": {\n        \"dtype\": \"number\",\n        \"std\": 1.7644204199522617,\n        \"min\": 1.0,\n        \"max\": 6.9,\n        \"num_unique_values\": 43,\n        \"samples\": [\n          6.7,\n          3.8,\n          3.7\n        ],\n        \"semantic_type\": \"\",\n        \"description\": \"\"\n      }\n    },\n    {\n      \"column\": \"petal_width\",\n      \"properties\": {\n        \"dtype\": \"number\",\n        \"std\": 0.7631607417008414,\n        \"min\": 0.1,\n        \"max\": 2.5,\n        \"num_unique_values\": 22,\n        \"samples\": [\n          0.2,\n          1.2,\n          1.3\n        ],\n        \"semantic_type\": \"\",\n        \"description\": \"\"\n      }\n    },\n    {\n      \"column\": \"species\",\n      \"properties\": {\n        \"dtype\": \"category\",\n        \"num_unique_values\": 3,\n        \"samples\": [\n          \"setosa\",\n          \"versicolor\",\n          \"virginica\"\n        ],\n        \"semantic_type\": \"\",\n        \"description\": \"\"\n      }\n    }\n  ]\n}"
            }
          },
          "metadata": {},
          "execution_count": 2
        }
      ],
      "source": [
        "df = pd.read_csv('https://github.com/rasvob/VSB-FEI-Fundamentals-of-Machine-Learning-Exercises/raw/master/datasets/iris.csv')\n",
        "df"
      ]
    },
    {
      "cell_type": "markdown",
      "id": "876ad5c0-86b3-4f28-8d5c-b13f8814c5d3",
      "metadata": {
        "id": "876ad5c0-86b3-4f28-8d5c-b13f8814c5d3"
      },
      "source": [
        "# 💡 Let's take a look at the data first\n",
        "* 🔎 Do you have an idea how would you divide the data into groupd based on the assigned classed by vertical or horizontal lines?"
      ]
    },
    {
      "cell_type": "code",
      "execution_count": 3,
      "id": "a226485c-3300-436b-a05b-2761dd04ede3",
      "metadata": {
        "id": "a226485c-3300-436b-a05b-2761dd04ede3",
        "outputId": "17f6cb42-8ce7-45da-e2c7-082dd9ba55b4",
        "colab": {
          "base_uri": "https://localhost:8080/",
          "height": 470
        }
      },
      "outputs": [
        {
          "output_type": "execute_result",
          "data": {
            "text/plain": [
              "<Axes: xlabel='sepal_length', ylabel='sepal_width'>"
            ]
          },
          "metadata": {},
          "execution_count": 3
        },
        {
          "output_type": "display_data",
          "data": {
            "text/plain": [
              "<Figure size 640x480 with 1 Axes>"
            ],
            "image/png": "[encoded data removed]"
          },
          "metadata": {}
        }
      ],
      "source": [
        "sns.scatterplot(data = df, x='sepal_length', y='sepal_width', hue='species')"
      ]
    },
    {
      "cell_type": "markdown",
      "id": "120d6aec-119b-49c3-bfed-fe2c290359ad",
      "metadata": {
        "id": "120d6aec-119b-49c3-bfed-fe2c290359ad"
      },
      "source": [
        "# And now? 😊"
      ]
    },
    {
      "cell_type": "code",
      "execution_count": 4,
      "id": "aaf18814-5547-48f8-92c1-3f7ead6a9e67",
      "metadata": {
        "id": "aaf18814-5547-48f8-92c1-3f7ead6a9e67",
        "outputId": "eb760702-288a-491f-8c64-610d53a80b2d",
        "colab": {
          "base_uri": "https://localhost:8080/",
          "height": 468
        }
      },
      "outputs": [
        {
          "output_type": "execute_result",
          "data": {
            "text/plain": [
              "<Axes: xlabel='petal_length', ylabel='petal_width'>"
            ]
          },
          "metadata": {},
          "execution_count": 4
        },
        {
          "output_type": "display_data",
          "data": {
            "text/plain": [
              "<Figure size 640x480 with 1 Axes>"
            ],
            "image/png": "[encoded data removed]"
          },
          "metadata": {}
        }
      ],
      "source": [
        "sns.scatterplot(data = df, x='petal_length', y='petal_width', hue='species')"
      ]
    },
    {
      "cell_type": "markdown",
      "id": "54cd1e35-c508-4ff4-a42c-0679d5bd67ed",
      "metadata": {
        "id": "54cd1e35-c508-4ff4-a42c-0679d5bd67ed"
      },
      "source": [
        "# Also it's always reasonable to take a look at the number of classes in the dataset\n",
        "* 💡You need to know beforehand about missing values or imbalance of labels"
      ]
    },
    {
      "cell_type": "code",
      "execution_count": 5,
      "id": "be1dfcb0-ac1c-4271-986a-fc5c017c760d",
      "metadata": {
        "id": "be1dfcb0-ac1c-4271-986a-fc5c017c760d",
        "outputId": "c7245102-4c2b-4496-a399-56df0c2fd835",
        "colab": {
          "base_uri": "https://localhost:8080/",
          "height": 210
        }
      },
      "outputs": [
        {
          "output_type": "execute_result",
          "data": {
            "text/plain": [
              "species\n",
              "setosa        50\n",
              "versicolor    50\n",
              "virginica     50\n",
              "Name: count, dtype: int64"
            ],
            "text/html": [
              "<div>\n",
              "<style scoped>\n",
              "    .dataframe tbody tr th:only-of-type {\n",
              "        vertical-align: middle;\n",
              "    }\n",
              "\n",
              "    .dataframe tbody tr th {\n",
              "        vertical-align: top;\n",
              "    }\n",
              "\n",
              "    .dataframe thead th {\n",
              "        text-align: right;\n",
              "    }\n",
              "</style>\n",
              "<table border=\"1\" class=\"dataframe\">\n",
              "  <thead>\n",
              "    <tr style=\"text-align: right;\">\n",
              "      <th></th>\n",
              "      <th>count</th>\n",
              "    </tr>\n",
              "    <tr>\n",
              "      <th>species</th>\n",
              "      <th></th>\n",
              "    </tr>\n",
              "  </thead>\n",
              "  <tbody>\n",
              "    <tr>\n",
              "      <th>setosa</th>\n",
              "      <td>50</td>\n",
              "    </tr>\n",
              "    <tr>\n",
              "      <th>versicolor</th>\n",
              "      <td>50</td>\n",
              "    </tr>\n",
              "    <tr>\n",
              "      <th>virginica</th>\n",
              "      <td>50</td>\n",
              "    </tr>\n",
              "  </tbody>\n",
              "</table>\n",
              "</div><br><label><b>dtype:</b> int64</label>"
            ]
          },
          "metadata": {},
          "execution_count": 5
        }
      ],
      "source": [
        "df.species.value_counts()"
      ]
    },
    {
      "cell_type": "markdown",
      "id": "85aa015b-a8e7-4a9a-857c-c11a2007adcc",
      "metadata": {
        "id": "85aa015b-a8e7-4a9a-857c-c11a2007adcc"
      },
      "source": [
        "# 🔎 What is the purpose of the classification algorithms?\n",
        "* How the algorithms work in general?\n",
        "* How does **Decision tree** work in a very simple terms?\n",
        "    * What is a split?\n",
        "        * 🔎 Is the data separated only by vertical/horizontal lines or are there any inclined straight lines or curves used?\n",
        "    * How can we decide on **which feature** and on **which condition** we should split?\n",
        "    * What is in the leaf of the **Decision tree**?\n",
        "        * **When** will the decision tree **stop the growth**?"
      ]
    },
    {
      "cell_type": "markdown",
      "id": "78504964-e946-44f5-b321-b121d3f019e7",
      "metadata": {
        "id": "78504964-e946-44f5-b321-b121d3f019e7"
      },
      "source": [
        "# 📊 Gini Index\n",
        "* What does it tell us?\n",
        "    * What is the **minimum** and **maximum** value for 2 classes?\n",
        "    * And for three?\n",
        "    * What result should we expect for the whole data set?\n",
        "\n",
        "## 🚀 Compute the gini index for the whole data set\n",
        "* 💡 Take a look at [these slides](https://github.com/rasvob/VSB-FEI-Fundamentals-of-Machine-Learning-Exercises/blob/master/misc/mad3_07.pdf) for the formulas and examples\n",
        "\n",
        "![meme03](https://github.com/rasvob/VSB-FEI-Fundamentals-of-Machine-Learning-Exercises/blob/master/images/fml_07_meme_03.jpg?raw=true)\n",
        "\n",
        "### Formulas\n",
        "\n",
        "* Gini index:\n",
        "  \n",
        "$$\n",
        "G(S) = 1 - \\sum_{j=1}^{k} p_{j}^{2}\n",
        "$$\n",
        "\n",
        "* where the $p_{j}$  is a fraction of points that belongs to the class j from a set S$"
      ]
    },
    {
      "cell_type": "markdown",
      "id": "68c0aa60-daa9-4acd-81e6-0851d241eb51",
      "metadata": {
        "id": "68c0aa60-daa9-4acd-81e6-0851d241eb51"
      },
      "source": [
        "* Gini impurity:\n",
        "$$\n",
        "G(S \\Rightarrow S_{1},...,S_{r}) = \\sum_{i=1}^{r} \\frac{S_i}{S} G(S_i)\n",
        "$$"
      ]
    },
    {
      "cell_type": "code",
      "execution_count": 6,
      "id": "a5822b5c-c463-4875-816d-2ab2f3a2a53b",
      "metadata": {
        "id": "a5822b5c-c463-4875-816d-2ab2f3a2a53b"
      },
      "outputs": [],
      "source": [
        "def gini_index(data: pd.DataFrame):\n",
        "    probs = 0\n",
        "    labels = data.species.unique()\n",
        "    for label in labels:\n",
        "        probs += (data[data.species == label].shape[0] / data.shape[0]) ** 2\n",
        "    return 1 - probs"
      ]
    },
    {
      "cell_type": "code",
      "execution_count": 7,
      "id": "ee00bd16-1d23-4608-96a3-ebf22f677dbe",
      "metadata": {
        "scrolled": true,
        "id": "ee00bd16-1d23-4608-96a3-ebf22f677dbe",
        "outputId": "e5a03817-bae3-457b-c1ab-f7e8e5957681",
        "colab": {
          "base_uri": "https://localhost:8080/"
        }
      },
      "outputs": [
        {
          "output_type": "execute_result",
          "data": {
            "text/plain": [
              "0.6666666666666667"
            ]
          },
          "metadata": {},
          "execution_count": 7
        }
      ],
      "source": [
        "gini_index(df)"
      ]
    },
    {
      "cell_type": "markdown",
      "id": "77c091d4-a420-432a-86f0-8ee70272b5b5",
      "metadata": {
        "tags": [],
        "id": "77c091d4-a420-432a-86f0-8ee70272b5b5"
      },
      "source": [
        "## 🚀 Take only the *sepal_width* attribute\n",
        "* Try to split the by attribute by value *3.35 (<= 3.35)*\n",
        "* Compute the gini index for the left and the right side of the split\n",
        "    * Left: 0.629\n",
        "    * Right: 0.285\n",
        "* Compute the total gini impurity for this split\n",
        "    * Total: 0.546\n",
        "\n",
        "    \n",
        "**How to solve the example?**\n",
        "$$\n",
        "Gini(left) = 1 - \\left[ \\left(\\frac{45}{114}\\right)^2 + \\left(\\frac{49}{114}\\right)^2 + \\left(\\frac{20}{114}\\right)^2 \\right] = 0.629\n",
        "$$\n",
        "\n",
        "$$\n",
        "Gini(right) = 1 - \\left[ \\left(\\frac{5}{36}\\right)^2 + \\left(\\frac{1}{36}\\right)^2 + \\left(\\frac{30}{36}\\right)^2 \\right] = 0.285\n",
        "$$\n",
        "\n",
        "$$\n",
        "GiniImpurity = \\frac{|df_{left}|}{|df|} * Gini(left) + \\frac{|df_{right}|}{|df|} * Gini(right) =  \\frac{114}{150} * 0.629 + \\frac{36}{150} * 0.285 = 0.546\n",
        "$$\n",
        "\n"
      ]
    },
    {
      "cell_type": "code",
      "execution_count": 8,
      "id": "8ae5b4ee-3fc0-4f2b-a2f7-6f6e131341b8",
      "metadata": {
        "id": "8ae5b4ee-3fc0-4f2b-a2f7-6f6e131341b8",
        "outputId": "1522bf55-5e0d-4b92-f40a-5270ee8418f1",
        "colab": {
          "base_uri": "https://localhost:8080/",
          "height": 206
        }
      },
      "outputs": [
        {
          "output_type": "execute_result",
          "data": {
            "text/plain": [
              "   sepal_length  sepal_width  petal_length  petal_width species\n",
              "1           4.9          3.0           1.4          0.2  setosa\n",
              "2           4.7          3.2           1.3          0.2  setosa\n",
              "3           4.6          3.1           1.5          0.2  setosa\n",
              "8           4.4          2.9           1.4          0.2  setosa\n",
              "9           4.9          3.1           1.5          0.1  setosa"
            ],
            "text/html": [
              "\n",
              "  <div id=\"df-1f2314d7-2fe8-4772-9b70-ee3ba7be767a\" class=\"colab-df-container\">\n",
              "    <div>\n",
              "<style scoped>\n",
              "    .dataframe tbody tr th:only-of-type {\n",
              "        vertical-align: middle;\n",
              "    }\n",
              "\n",
              "    .dataframe tbody tr th {\n",
              "        vertical-align: top;\n",
              "    }\n",
              "\n",
              "    .dataframe thead th {\n",
              "        text-align: right;\n",
              "    }\n",
              "</style>\n",
              "<table border=\"1\" class=\"dataframe\">\n",
              "  <thead>\n",
              "    <tr style=\"text-align: right;\">\n",
              "      <th></th>\n",
              "      <th>sepal_length</th>\n",
              "      <th>sepal_width</th>\n",
              "      <th>petal_length</th>\n",
              "      <th>petal_width</th>\n",
              "      <th>species</th>\n",
              "    </tr>\n",
              "  </thead>\n",
              "  <tbody>\n",
              "    <tr>\n",
              "      <th>1</th>\n",
              "      <td>4.9</td>\n",
              "      <td>3.0</td>\n",
              "      <td>1.4</td>\n",
              "      <td>0.2</td>\n",
              "      <td>setosa</td>\n",
              "    </tr>\n",
              "    <tr>\n",
              "      <th>2</th>\n",
              "      <td>4.7</td>\n",
              "      <td>3.2</td>\n",
              "      <td>1.3</td>\n",
              "      <td>0.2</td>\n",
              "      <td>setosa</td>\n",
              "    </tr>\n",
              "    <tr>\n",
              "      <th>3</th>\n",
              "      <td>4.6</td>\n",
              "      <td>3.1</td>\n",
              "      <td>1.5</td>\n",
              "      <td>0.2</td>\n",
              "      <td>setosa</td>\n",
              "    </tr>\n",
              "    <tr>\n",
              "      <th>8</th>\n",
              "      <td>4.4</td>\n",
              "      <td>2.9</td>\n",
              "      <td>1.4</td>\n",
              "      <td>0.2</td>\n",
              "      <td>setosa</td>\n",
              "    </tr>\n",
              "    <tr>\n",
              "      <th>9</th>\n",
              "      <td>4.9</td>\n",
              "      <td>3.1</td>\n",
              "      <td>1.5</td>\n",
              "      <td>0.1</td>\n",
              "      <td>setosa</td>\n",
              "    </tr>\n",
              "  </tbody>\n",
              "</table>\n",
              "</div>\n",
              "    <div class=\"colab-df-buttons\">\n",
              "\n",
              "  <div class=\"colab-df-container\">\n",
              "    <button class=\"colab-df-convert\" onclick=\"convertToInteractive('df-1f2314d7-2fe8-4772-9b70-ee3ba7be767a')\"\n",
              "            title=\"Convert this dataframe to an interactive table.\"\n",
              "            style=\"display:none;\">\n",
              "\n",
              "  <svg xmlns=\"http://www.w3.org/2000/svg\" height=\"24px\" viewBox=\"0 -960 960 960\">\n",
              "    <path d=\"M120-120v-720h720v720H120Zm60-500h600v-160H180v160Zm220 220h160v-160H400v160Zm0 220h160v-160H400v160ZM180-400h160v-160H180v160Zm440 0h160v-160H620v160ZM180-180h160v-160H180v160Zm440 0h160v-160H620v160Z\"/>\n",
              "  </svg>\n",
              "    </button>\n",
              "\n",
              "  <style>\n",
              "    .colab-df-container {\n",
              "      display:flex;\n",
              "      gap: 12px;\n",
              "    }\n",
              "\n",
              "    .colab-df-convert {\n",
              "      background-color: #E8F0FE;\n",
              "      border: none;\n",
              "      border-radius: 50%;\n",
              "      cursor: pointer;\n",
              "      display: none;\n",
              "      fill: #1967D2;\n",
              "      height: 32px;\n",
              "      padding: 0 0 0 0;\n",
              "      width: 32px;\n",
              "    }\n",
              "\n",
              "    .colab-df-convert:hover {\n",
              "      background-color: #E2EBFA;\n",
              "      box-shadow: 0px 1px 2px rgba(60, 64, 67, 0.3), 0px 1px 3px 1px rgba(60, 64, 67, 0.15);\n",
              "      fill: #174EA6;\n",
              "    }\n",
              "\n",
              "    .colab-df-buttons div {\n",
              "      margin-bottom: 4px;\n",
              "    }\n",
              "\n",
              "    [theme=dark] .colab-df-convert {\n",
              "      background-color: #3B4455;\n",
              "      fill: #D2E3FC;\n",
              "    }\n",
              "\n",
              "    [theme=dark] .colab-df-convert:hover {\n",
              "      background-color: #434B5C;\n",
              "      box-shadow: 0px 1px 3px 1px rgba(0, 0, 0, 0.15);\n",
              "      filter: drop-shadow(0px 1px 2px rgba(0, 0, 0, 0.3));\n",
              "      fill: #FFFFFF;\n",
              "    }\n",
              "  </style>\n",
              "\n",
              "    <script>\n",
              "      const buttonEl =\n",
              "        document.querySelector('#df-1f2314d7-2fe8-4772-9b70-ee3ba7be767a button.colab-df-convert');\n",
              "      buttonEl.style.display =\n",
              "        google.colab.kernel.accessAllowed ? 'block' : 'none';\n",
              "\n",
              "      async function convertToInteractive(key) {\n",
              "        const element = document.querySelector('#df-1f2314d7-2fe8-4772-9b70-ee3ba7be767a');\n",
              "        const dataTable =\n",
              "          await google.colab.kernel.invokeFunction('convertToInteractive',\n",
              "                                                    [key], {});\n",
              "        if (!dataTable) return;\n",
              "\n",
              "        const docLinkHtml = 'Like what you see? Visit the ' +\n",
              "          '<a target=\"_blank\" href=https://colab.research.google.com/notebooks/data_table.ipynb>data table notebook</a>'\n",
              "          + ' to learn more about interactive tables.';\n",
              "        element.innerHTML = '';\n",
              "        dataTable['output_type'] = 'display_data';\n",
              "        await google.colab.output.renderOutput(dataTable, element);\n",
              "        const docLink = document.createElement('div');\n",
              "        docLink.innerHTML = docLinkHtml;\n",
              "        element.appendChild(docLink);\n",
              "      }\n",
              "    </script>\n",
              "  </div>\n",
              "\n",
              "\n",
              "<div id=\"df-f8082518-433f-4de1-b0bc-c4a90947b691\">\n",
              "  <button class=\"colab-df-quickchart\" onclick=\"quickchart('df-f8082518-433f-4de1-b0bc-c4a90947b691')\"\n",
              "            title=\"Suggest charts\"\n",
              "            style=\"display:none;\">\n",
              "\n",
              "<svg xmlns=\"http://www.w3.org/2000/svg\" height=\"24px\"viewBox=\"0 0 24 24\"\n",
              "     width=\"24px\">\n",
              "    <g>\n",
              "        <path d=\"M19 3H5c-1.1 0-2 .9-2 2v14c0 1.1.9 2 2 2h14c1.1 0 2-.9 2-2V5c0-1.1-.9-2-2-2zM9 17H7v-7h2v7zm4 0h-2V7h2v10zm4 0h-2v-4h2v4z\"/>\n",
              "    </g>\n",
              "</svg>\n",
              "  </button>\n",
              "\n",
              "<style>\n",
              "  .colab-df-quickchart {\n",
              "      --bg-color: #E8F0FE;\n",
              "      --fill-color: #1967D2;\n",
              "      --hover-bg-color: #E2EBFA;\n",
              "      --hover-fill-color: #174EA6;\n",
              "      --disabled-fill-color: #AAA;\n",
              "      --disabled-bg-color: #DDD;\n",
              "  }\n",
              "\n",
              "  [theme=dark] .colab-df-quickchart {\n",
              "      --bg-color: #3B4455;\n",
              "      --fill-color: #D2E3FC;\n",
              "      --hover-bg-color: #434B5C;\n",
              "      --hover-fill-color: #FFFFFF;\n",
              "      --disabled-bg-color: #3B4455;\n",
              "      --disabled-fill-color: #666;\n",
              "  }\n",
              "\n",
              "  .colab-df-quickchart {\n",
              "    background-color: var(--bg-color);\n",
              "    border: none;\n",
              "    border-radius: 50%;\n",
              "    cursor: pointer;\n",
              "    display: none;\n",
              "    fill: var(--fill-color);\n",
              "    height: 32px;\n",
              "    padding: 0;\n",
              "    width: 32px;\n",
              "  }\n",
              "\n",
              "  .colab-df-quickchart:hover {\n",
              "    background-color: var(--hover-bg-color);\n",
              "    box-shadow: 0 1px 2px rgba(60, 64, 67, 0.3), 0 1px 3px 1px rgba(60, 64, 67, 0.15);\n",
              "    fill: var(--button-hover-fill-color);\n",
              "  }\n",
              "\n",
              "  .colab-df-quickchart-complete:disabled,\n",
              "  .colab-df-quickchart-complete:disabled:hover {\n",
              "    background-color: var(--disabled-bg-color);\n",
              "    fill: var(--disabled-fill-color);\n",
              "    box-shadow: none;\n",
              "  }\n",
              "\n",
              "  .colab-df-spinner {\n",
              "    border: 2px solid var(--fill-color);\n",
              "    border-color: transparent;\n",
              "    border-bottom-color: var(--fill-color);\n",
              "    animation:\n",
              "      spin 1s steps(1) infinite;\n",
              "  }\n",
              "\n",
              "  @keyframes spin {\n",
              "    0% {\n",
              "      border-color: transparent;\n",
              "      border-bottom-color: var(--fill-color);\n",
              "      border-left-color: var(--fill-color);\n",
              "    }\n",
              "    20% {\n",
              "      border-color: transparent;\n",
              "      border-left-color: var(--fill-color);\n",
              "      border-top-color: var(--fill-color);\n",
              "    }\n",
              "    30% {\n",
              "      border-color: transparent;\n",
              "      border-left-color: var(--fill-color);\n",
              "      border-top-color: var(--fill-color);\n",
              "      border-right-color: var(--fill-color);\n",
              "    }\n",
              "    40% {\n",
              "      border-color: transparent;\n",
              "      border-right-color: var(--fill-color);\n",
              "      border-top-color: var(--fill-color);\n",
              "    }\n",
              "    60% {\n",
              "      border-color: transparent;\n",
              "      border-right-color: var(--fill-color);\n",
              "    }\n",
              "    80% {\n",
              "      border-color: transparent;\n",
              "      border-right-color: var(--fill-color);\n",
              "      border-bottom-color: var(--fill-color);\n",
              "    }\n",
              "    90% {\n",
              "      border-color: transparent;\n",
              "      border-bottom-color: var(--fill-color);\n",
              "    }\n",
              "  }\n",
              "</style>\n",
              "\n",
              "  <script>\n",
              "    async function quickchart(key) {\n",
              "      const quickchartButtonEl =\n",
              "        document.querySelector('#' + key + ' button');\n",
              "      quickchartButtonEl.disabled = true;  // To prevent multiple clicks.\n",
              "      quickchartButtonEl.classList.add('colab-df-spinner');\n",
              "      try {\n",
              "        const charts = await google.colab.kernel.invokeFunction(\n",
              "            'suggestCharts', [key], {});\n",
              "      } catch (error) {\n",
              "        console.error('Error during call to suggestCharts:', error);\n",
              "      }\n",
              "      quickchartButtonEl.classList.remove('colab-df-spinner');\n",
              "      quickchartButtonEl.classList.add('colab-df-quickchart-complete');\n",
              "    }\n",
              "    (() => {\n",
              "      let quickchartButtonEl =\n",
              "        document.querySelector('#df-f8082518-433f-4de1-b0bc-c4a90947b691 button');\n",
              "      quickchartButtonEl.style.display =\n",
              "        google.colab.kernel.accessAllowed ? 'block' : 'none';\n",
              "    })();\n",
              "  </script>\n",
              "</div>\n",
              "\n",
              "    </div>\n",
              "  </div>\n"
            ],
            "application/vnd.google.colaboratory.intrinsic+json": {
              "type": "dataframe",
              "variable_name": "df_left",
              "summary": "{\n  \"name\": \"df_left\",\n  \"rows\": 114,\n  \"fields\": [\n    {\n      \"column\": \"sepal_length\",\n      \"properties\": {\n        \"dtype\": \"number\",\n        \"std\": 0.8158288875695008,\n        \"min\": 4.3,\n        \"max\": 7.7,\n        \"num_unique_values\": 33,\n        \"samples\": [\n          7.2,\n          6.3,\n          5.4\n        ],\n        \"semantic_type\": \"\",\n        \"description\": \"\"\n      }\n    },\n    {\n      \"column\": \"sepal_width\",\n      \"properties\": {\n        \"dtype\": \"number\",\n        \"std\": 0.28937748044999145,\n        \"min\": 2.0,\n        \"max\": 3.3,\n        \"num_unique_values\": 13,\n        \"samples\": [\n          2.5,\n          2.0,\n          3.0\n        ],\n        \"semantic_type\": \"\",\n        \"description\": \"\"\n      }\n    },\n    {\n      \"column\": \"petal_length\",\n      \"properties\": {\n        \"dtype\": \"number\",\n        \"std\": 1.4988037977319235,\n        \"min\": 1.1,\n        \"max\": 6.9,\n        \"num_unique_values\": 40,\n        \"samples\": [\n          4.8,\n          3.6,\n          4.2\n        ],\n        \"semantic_type\": \"\",\n        \"description\": \"\"\n      }\n    },\n    {\n      \"column\": \"petal_width\",\n      \"properties\": {\n        \"dtype\": \"number\",\n        \"std\": 0.6676549110633726,\n        \"min\": 0.1,\n        \"max\": 2.5,\n        \"num_unique_values\": 20,\n        \"samples\": [\n          0.2,\n          2.0,\n          2.1\n        ],\n        \"semantic_type\": \"\",\n        \"description\": \"\"\n      }\n    },\n    {\n      \"column\": \"species\",\n      \"properties\": {\n        \"dtype\": \"category\",\n        \"num_unique_values\": 3,\n        \"samples\": [\n          \"setosa\",\n          \"versicolor\",\n          \"virginica\"\n        ],\n        \"semantic_type\": \"\",\n        \"description\": \"\"\n      }\n    }\n  ]\n}"
            }
          },
          "metadata": {},
          "execution_count": 8
        }
      ],
      "source": [
        "df_left = df[df['sepal_width'] <= 3.35]\n",
        "df_left.head()"
      ]
    },
    {
      "cell_type": "code",
      "execution_count": 9,
      "id": "ee18e789-7ccc-4140-a58e-46ed5b6bc6ee",
      "metadata": {
        "id": "ee18e789-7ccc-4140-a58e-46ed5b6bc6ee",
        "outputId": "a226169e-1a69-4918-a182-866afee6b187",
        "colab": {
          "base_uri": "https://localhost:8080/"
        }
      },
      "outputs": [
        {
          "output_type": "execute_result",
          "data": {
            "text/plain": [
              "(114, 5)"
            ]
          },
          "metadata": {},
          "execution_count": 9
        }
      ],
      "source": [
        "df_left.shape"
      ]
    },
    {
      "cell_type": "code",
      "execution_count": 10,
      "id": "c75a13f2-b217-463b-b034-9112ac5042fc",
      "metadata": {
        "id": "c75a13f2-b217-463b-b034-9112ac5042fc",
        "outputId": "1a67d8c2-6aa3-4361-a969-957d2c9f7e87",
        "colab": {
          "base_uri": "https://localhost:8080/",
          "height": 210
        }
      },
      "outputs": [
        {
          "output_type": "execute_result",
          "data": {
            "text/plain": [
              "species\n",
              "versicolor    49\n",
              "virginica     45\n",
              "setosa        20\n",
              "Name: count, dtype: int64"
            ],
            "text/html": [
              "<div>\n",
              "<style scoped>\n",
              "    .dataframe tbody tr th:only-of-type {\n",
              "        vertical-align: middle;\n",
              "    }\n",
              "\n",
              "    .dataframe tbody tr th {\n",
              "        vertical-align: top;\n",
              "    }\n",
              "\n",
              "    .dataframe thead th {\n",
              "        text-align: right;\n",
              "    }\n",
              "</style>\n",
              "<table border=\"1\" class=\"dataframe\">\n",
              "  <thead>\n",
              "    <tr style=\"text-align: right;\">\n",
              "      <th></th>\n",
              "      <th>count</th>\n",
              "    </tr>\n",
              "    <tr>\n",
              "      <th>species</th>\n",
              "      <th></th>\n",
              "    </tr>\n",
              "  </thead>\n",
              "  <tbody>\n",
              "    <tr>\n",
              "      <th>versicolor</th>\n",
              "      <td>49</td>\n",
              "    </tr>\n",
              "    <tr>\n",
              "      <th>virginica</th>\n",
              "      <td>45</td>\n",
              "    </tr>\n",
              "    <tr>\n",
              "      <th>setosa</th>\n",
              "      <td>20</td>\n",
              "    </tr>\n",
              "  </tbody>\n",
              "</table>\n",
              "</div><br><label><b>dtype:</b> int64</label>"
            ]
          },
          "metadata": {},
          "execution_count": 10
        }
      ],
      "source": [
        "df_left.species.value_counts()"
      ]
    },
    {
      "cell_type": "code",
      "execution_count": 11,
      "id": "9328bebc-0933-4829-ab78-cd515cf4cb77",
      "metadata": {
        "id": "9328bebc-0933-4829-ab78-cd515cf4cb77",
        "outputId": "de1db36f-c919-4c5a-b719-0c31520ab9ba",
        "colab": {
          "base_uri": "https://localhost:8080/"
        }
      },
      "outputs": [
        {
          "output_type": "execute_result",
          "data": {
            "text/plain": [
              "0.6286549707602339"
            ]
          },
          "metadata": {},
          "execution_count": 11
        }
      ],
      "source": [
        "gini_index(df_left)"
      ]
    },
    {
      "cell_type": "code",
      "execution_count": 12,
      "id": "388c331b-22e0-4cb4-bec9-571982385e71",
      "metadata": {
        "id": "388c331b-22e0-4cb4-bec9-571982385e71",
        "outputId": "6d6c9069-3e76-4449-e564-173693fe049f",
        "colab": {
          "base_uri": "https://localhost:8080/",
          "height": 206
        }
      },
      "outputs": [
        {
          "output_type": "execute_result",
          "data": {
            "text/plain": [
              "   sepal_length  sepal_width  petal_length  petal_width species\n",
              "0           5.1          3.5           1.4          0.2  setosa\n",
              "4           5.0          3.6           1.4          0.2  setosa\n",
              "5           5.4          3.9           1.7          0.4  setosa\n",
              "6           4.6          3.4           1.4          0.3  setosa\n",
              "7           5.0          3.4           1.5          0.2  setosa"
            ],
            "text/html": [
              "\n",
              "  <div id=\"df-80980adf-e33d-458d-b8d3-c9db54d6295f\" class=\"colab-df-container\">\n",
              "    <div>\n",
              "<style scoped>\n",
              "    .dataframe tbody tr th:only-of-type {\n",
              "        vertical-align: middle;\n",
              "    }\n",
              "\n",
              "    .dataframe tbody tr th {\n",
              "        vertical-align: top;\n",
              "    }\n",
              "\n",
              "    .dataframe thead th {\n",
              "        text-align: right;\n",
              "    }\n",
              "</style>\n",
              "<table border=\"1\" class=\"dataframe\">\n",
              "  <thead>\n",
              "    <tr style=\"text-align: right;\">\n",
              "      <th></th>\n",
              "      <th>sepal_length</th>\n",
              "      <th>sepal_width</th>\n",
              "      <th>petal_length</th>\n",
              "      <th>petal_width</th>\n",
              "      <th>species</th>\n",
              "    </tr>\n",
              "  </thead>\n",
              "  <tbody>\n",
              "    <tr>\n",
              "      <th>0</th>\n",
              "      <td>5.1</td>\n",
              "      <td>3.5</td>\n",
              "      <td>1.4</td>\n",
              "      <td>0.2</td>\n",
              "      <td>setosa</td>\n",
              "    </tr>\n",
              "    <tr>\n",
              "      <th>4</th>\n",
              "      <td>5.0</td>\n",
              "      <td>3.6</td>\n",
              "      <td>1.4</td>\n",
              "      <td>0.2</td>\n",
              "      <td>setosa</td>\n",
              "    </tr>\n",
              "    <tr>\n",
              "      <th>5</th>\n",
              "      <td>5.4</td>\n",
              "      <td>3.9</td>\n",
              "      <td>1.7</td>\n",
              "      <td>0.4</td>\n",
              "      <td>setosa</td>\n",
              "    </tr>\n",
              "    <tr>\n",
              "      <th>6</th>\n",
              "      <td>4.6</td>\n",
              "      <td>3.4</td>\n",
              "      <td>1.4</td>\n",
              "      <td>0.3</td>\n",
              "      <td>setosa</td>\n",
              "    </tr>\n",
              "    <tr>\n",
              "      <th>7</th>\n",
              "      <td>5.0</td>\n",
              "      <td>3.4</td>\n",
              "      <td>1.5</td>\n",
              "      <td>0.2</td>\n",
              "      <td>setosa</td>\n",
              "    </tr>\n",
              "  </tbody>\n",
              "</table>\n",
              "</div>\n",
              "    <div class=\"colab-df-buttons\">\n",
              "\n",
              "  <div class=\"colab-df-container\">\n",
              "    <button class=\"colab-df-convert\" onclick=\"convertToInteractive('df-80980adf-e33d-458d-b8d3-c9db54d6295f')\"\n",
              "            title=\"Convert this dataframe to an interactive table.\"\n",
              "            style=\"display:none;\">\n",
              "\n",
              "  <svg xmlns=\"http://www.w3.org/2000/svg\" height=\"24px\" viewBox=\"0 -960 960 960\">\n",
              "    <path d=\"M120-120v-720h720v720H120Zm60-500h600v-160H180v160Zm220 220h160v-160H400v160Zm0 220h160v-160H400v160ZM180-400h160v-160H180v160Zm440 0h160v-160H620v160ZM180-180h160v-160H180v160Zm440 0h160v-160H620v160Z\"/>\n",
              "  </svg>\n",
              "    </button>\n",
              "\n",
              "  <style>\n",
              "    .colab-df-container {\n",
              "      display:flex;\n",
              "      gap: 12px;\n",
              "    }\n",
              "\n",
              "    .colab-df-convert {\n",
              "      background-color: #E8F0FE;\n",
              "      border: none;\n",
              "      border-radius: 50%;\n",
              "      cursor: pointer;\n",
              "      display: none;\n",
              "      fill: #1967D2;\n",
              "      height: 32px;\n",
              "      padding: 0 0 0 0;\n",
              "      width: 32px;\n",
              "    }\n",
              "\n",
              "    .colab-df-convert:hover {\n",
              "      background-color: #E2EBFA;\n",
              "      box-shadow: 0px 1px 2px rgba(60, 64, 67, 0.3), 0px 1px 3px 1px rgba(60, 64, 67, 0.15);\n",
              "      fill: #174EA6;\n",
              "    }\n",
              "\n",
              "    .colab-df-buttons div {\n",
              "      margin-bottom: 4px;\n",
              "    }\n",
              "\n",
              "    [theme=dark] .colab-df-convert {\n",
              "      background-color: #3B4455;\n",
              "      fill: #D2E3FC;\n",
              "    }\n",
              "\n",
              "    [theme=dark] .colab-df-convert:hover {\n",
              "      background-color: #434B5C;\n",
              "      box-shadow: 0px 1px 3px 1px rgba(0, 0, 0, 0.15);\n",
              "      filter: drop-shadow(0px 1px 2px rgba(0, 0, 0, 0.3));\n",
              "      fill: #FFFFFF;\n",
              "    }\n",
              "  </style>\n",
              "\n",
              "    <script>\n",
              "      const buttonEl =\n",
              "        document.querySelector('#df-80980adf-e33d-458d-b8d3-c9db54d6295f button.colab-df-convert');\n",
              "      buttonEl.style.display =\n",
              "        google.colab.kernel.accessAllowed ? 'block' : 'none';\n",
              "\n",
              "      async function convertToInteractive(key) {\n",
              "        const element = document.querySelector('#df-80980adf-e33d-458d-b8d3-c9db54d6295f');\n",
              "        const dataTable =\n",
              "          await google.colab.kernel.invokeFunction('convertToInteractive',\n",
              "                                                    [key], {});\n",
              "        if (!dataTable) return;\n",
              "\n",
              "        const docLinkHtml = 'Like what you see? Visit the ' +\n",
              "          '<a target=\"_blank\" href=https://colab.research.google.com/notebooks/data_table.ipynb>data table notebook</a>'\n",
              "          + ' to learn more about interactive tables.';\n",
              "        element.innerHTML = '';\n",
              "        dataTable['output_type'] = 'display_data';\n",
              "        await google.colab.output.renderOutput(dataTable, element);\n",
              "        const docLink = document.createElement('div');\n",
              "        docLink.innerHTML = docLinkHtml;\n",
              "        element.appendChild(docLink);\n",
              "      }\n",
              "    </script>\n",
              "  </div>\n",
              "\n",
              "\n",
              "<div id=\"df-b983d23b-5583-46b1-986e-537b6711dbe4\">\n",
              "  <button class=\"colab-df-quickchart\" onclick=\"quickchart('df-b983d23b-5583-46b1-986e-537b6711dbe4')\"\n",
              "            title=\"Suggest charts\"\n",
              "            style=\"display:none;\">\n",
              "\n",
              "<svg xmlns=\"http://www.w3.org/2000/svg\" height=\"24px\"viewBox=\"0 0 24 24\"\n",
              "     width=\"24px\">\n",
              "    <g>\n",
              "        <path d=\"M19 3H5c-1.1 0-2 .9-2 2v14c0 1.1.9 2 2 2h14c1.1 0 2-.9 2-2V5c0-1.1-.9-2-2-2zM9 17H7v-7h2v7zm4 0h-2V7h2v10zm4 0h-2v-4h2v4z\"/>\n",
              "    </g>\n",
              "</svg>\n",
              "  </button>\n",
              "\n",
              "<style>\n",
              "  .colab-df-quickchart {\n",
              "      --bg-color: #E8F0FE;\n",
              "      --fill-color: #1967D2;\n",
              "      --hover-bg-color: #E2EBFA;\n",
              "      --hover-fill-color: #174EA6;\n",
              "      --disabled-fill-color: #AAA;\n",
              "      --disabled-bg-color: #DDD;\n",
              "  }\n",
              "\n",
              "  [theme=dark] .colab-df-quickchart {\n",
              "      --bg-color: #3B4455;\n",
              "      --fill-color: #D2E3FC;\n",
              "      --hover-bg-color: #434B5C;\n",
              "      --hover-fill-color: #FFFFFF;\n",
              "      --disabled-bg-color: #3B4455;\n",
              "      --disabled-fill-color: #666;\n",
              "  }\n",
              "\n",
              "  .colab-df-quickchart {\n",
              "    background-color: var(--bg-color);\n",
              "    border: none;\n",
              "    border-radius: 50%;\n",
              "    cursor: pointer;\n",
              "    display: none;\n",
              "    fill: var(--fill-color);\n",
              "    height: 32px;\n",
              "    padding: 0;\n",
              "    width: 32px;\n",
              "  }\n",
              "\n",
              "  .colab-df-quickchart:hover {\n",
              "    background-color: var(--hover-bg-color);\n",
              "    box-shadow: 0 1px 2px rgba(60, 64, 67, 0.3), 0 1px 3px 1px rgba(60, 64, 67, 0.15);\n",
              "    fill: var(--button-hover-fill-color);\n",
              "  }\n",
              "\n",
              "  .colab-df-quickchart-complete:disabled,\n",
              "  .colab-df-quickchart-complete:disabled:hover {\n",
              "    background-color: var(--disabled-bg-color);\n",
              "    fill: var(--disabled-fill-color);\n",
              "    box-shadow: none;\n",
              "  }\n",
              "\n",
              "  .colab-df-spinner {\n",
              "    border: 2px solid var(--fill-color);\n",
              "    border-color: transparent;\n",
              "    border-bottom-color: var(--fill-color);\n",
              "    animation:\n",
              "      spin 1s steps(1) infinite;\n",
              "  }\n",
              "\n",
              "  @keyframes spin {\n",
              "    0% {\n",
              "      border-color: transparent;\n",
              "      border-bottom-color: var(--fill-color);\n",
              "      border-left-color: var(--fill-color);\n",
              "    }\n",
              "    20% {\n",
              "      border-color: transparent;\n",
              "      border-left-color: var(--fill-color);\n",
              "      border-top-color: var(--fill-color);\n",
              "    }\n",
              "    30% {\n",
              "      border-color: transparent;\n",
              "      border-left-color: var(--fill-color);\n",
              "      border-top-color: var(--fill-color);\n",
              "      border-right-color: var(--fill-color);\n",
              "    }\n",
              "    40% {\n",
              "      border-color: transparent;\n",
              "      border-right-color: var(--fill-color);\n",
              "      border-top-color: var(--fill-color);\n",
              "    }\n",
              "    60% {\n",
              "      border-color: transparent;\n",
              "      border-right-color: var(--fill-color);\n",
              "    }\n",
              "    80% {\n",
              "      border-color: transparent;\n",
              "      border-right-color: var(--fill-color);\n",
              "      border-bottom-color: var(--fill-color);\n",
              "    }\n",
              "    90% {\n",
              "      border-color: transparent;\n",
              "      border-bottom-color: var(--fill-color);\n",
              "    }\n",
              "  }\n",
              "</style>\n",
              "\n",
              "  <script>\n",
              "    async function quickchart(key) {\n",
              "      const quickchartButtonEl =\n",
              "        document.querySelector('#' + key + ' button');\n",
              "      quickchartButtonEl.disabled = true;  // To prevent multiple clicks.\n",
              "      quickchartButtonEl.classList.add('colab-df-spinner');\n",
              "      try {\n",
              "        const charts = await google.colab.kernel.invokeFunction(\n",
              "            'suggestCharts', [key], {});\n",
              "      } catch (error) {\n",
              "        console.error('Error during call to suggestCharts:', error);\n",
              "      }\n",
              "      quickchartButtonEl.classList.remove('colab-df-spinner');\n",
              "      quickchartButtonEl.classList.add('colab-df-quickchart-complete');\n",
              "    }\n",
              "    (() => {\n",
              "      let quickchartButtonEl =\n",
              "        document.querySelector('#df-b983d23b-5583-46b1-986e-537b6711dbe4 button');\n",
              "      quickchartButtonEl.style.display =\n",
              "        google.colab.kernel.accessAllowed ? 'block' : 'none';\n",
              "    })();\n",
              "  </script>\n",
              "</div>\n",
              "\n",
              "    </div>\n",
              "  </div>\n"
            ],
            "application/vnd.google.colaboratory.intrinsic+json": {
              "type": "dataframe",
              "variable_name": "df_right",
              "summary": "{\n  \"name\": \"df_right\",\n  \"rows\": 36,\n  \"fields\": [\n    {\n      \"column\": \"sepal_length\",\n      \"properties\": {\n        \"dtype\": \"number\",\n        \"std\": 0.7622595899952213,\n        \"min\": 4.6,\n        \"max\": 7.9,\n        \"num_unique_values\": 16,\n        \"samples\": [\n          5.1,\n          5.0,\n          5.8\n        ],\n        \"semantic_type\": \"\",\n        \"description\": \"\"\n      }\n    },\n    {\n      \"column\": \"sepal_width\",\n      \"properties\": {\n        \"dtype\": \"number\",\n        \"std\": 0.25887424170023754,\n        \"min\": 3.4,\n        \"max\": 4.4,\n        \"num_unique_values\": 10,\n        \"samples\": [\n          4.1,\n          3.6,\n          4.0\n        ],\n        \"semantic_type\": \"\",\n        \"description\": \"\"\n      }\n    },\n    {\n      \"column\": \"petal_length\",\n      \"properties\": {\n        \"dtype\": \"number\",\n        \"std\": 1.6576015375061817,\n        \"min\": 1.0,\n        \"max\": 6.7,\n        \"num_unique_values\": 14,\n        \"samples\": [\n          6.1,\n          6.4,\n          1.4\n        ],\n        \"semantic_type\": \"\",\n        \"description\": \"\"\n      }\n    },\n    {\n      \"column\": \"petal_width\",\n      \"properties\": {\n        \"dtype\": \"number\",\n        \"std\": 0.7328136686879367,\n        \"min\": 0.1,\n        \"max\": 2.5,\n        \"num_unique_values\": 11,\n        \"samples\": [\n          1.6,\n          0.2,\n          2.4\n        ],\n        \"semantic_type\": \"\",\n        \"description\": \"\"\n      }\n    },\n    {\n      \"column\": \"species\",\n      \"properties\": {\n        \"dtype\": \"category\",\n        \"num_unique_values\": 3,\n        \"samples\": [\n          \"setosa\",\n          \"versicolor\",\n          \"virginica\"\n        ],\n        \"semantic_type\": \"\",\n        \"description\": \"\"\n      }\n    }\n  ]\n}"
            }
          },
          "metadata": {},
          "execution_count": 12
        }
      ],
      "source": [
        "df_right = df[df['sepal_width'] > 3.35]\n",
        "df_right.head()"
      ]
    },
    {
      "cell_type": "code",
      "execution_count": 13,
      "id": "8adc4083-667c-4b39-85eb-8f8b47cdb9c6",
      "metadata": {
        "id": "8adc4083-667c-4b39-85eb-8f8b47cdb9c6",
        "outputId": "3135712b-c0d3-4cb3-d091-1bfb1743ff1f",
        "colab": {
          "base_uri": "https://localhost:8080/"
        }
      },
      "outputs": [
        {
          "output_type": "execute_result",
          "data": {
            "text/plain": [
              "(36, 5)"
            ]
          },
          "metadata": {},
          "execution_count": 13
        }
      ],
      "source": [
        "df_right.shape"
      ]
    },
    {
      "cell_type": "code",
      "execution_count": 14,
      "id": "96a667ea-456b-45d1-a704-e18f5813744c",
      "metadata": {
        "id": "96a667ea-456b-45d1-a704-e18f5813744c",
        "outputId": "f7827e79-f186-4362-f148-c72d9304855b",
        "colab": {
          "base_uri": "https://localhost:8080/",
          "height": 210
        }
      },
      "outputs": [
        {
          "output_type": "execute_result",
          "data": {
            "text/plain": [
              "species\n",
              "setosa        30\n",
              "virginica      5\n",
              "versicolor     1\n",
              "Name: count, dtype: int64"
            ],
            "text/html": [
              "<div>\n",
              "<style scoped>\n",
              "    .dataframe tbody tr th:only-of-type {\n",
              "        vertical-align: middle;\n",
              "    }\n",
              "\n",
              "    .dataframe tbody tr th {\n",
              "        vertical-align: top;\n",
              "    }\n",
              "\n",
              "    .dataframe thead th {\n",
              "        text-align: right;\n",
              "    }\n",
              "</style>\n",
              "<table border=\"1\" class=\"dataframe\">\n",
              "  <thead>\n",
              "    <tr style=\"text-align: right;\">\n",
              "      <th></th>\n",
              "      <th>count</th>\n",
              "    </tr>\n",
              "    <tr>\n",
              "      <th>species</th>\n",
              "      <th></th>\n",
              "    </tr>\n",
              "  </thead>\n",
              "  <tbody>\n",
              "    <tr>\n",
              "      <th>setosa</th>\n",
              "      <td>30</td>\n",
              "    </tr>\n",
              "    <tr>\n",
              "      <th>virginica</th>\n",
              "      <td>5</td>\n",
              "    </tr>\n",
              "    <tr>\n",
              "      <th>versicolor</th>\n",
              "      <td>1</td>\n",
              "    </tr>\n",
              "  </tbody>\n",
              "</table>\n",
              "</div><br><label><b>dtype:</b> int64</label>"
            ]
          },
          "metadata": {},
          "execution_count": 14
        }
      ],
      "source": [
        "df_right.species.value_counts()"
      ]
    },
    {
      "cell_type": "code",
      "execution_count": 15,
      "id": "83942d58-c899-425f-93be-6b9f54786f7e",
      "metadata": {
        "id": "83942d58-c899-425f-93be-6b9f54786f7e",
        "outputId": "ec1d0993-c6a3-4035-ecb2-40e882f38da6",
        "colab": {
          "base_uri": "https://localhost:8080/"
        }
      },
      "outputs": [
        {
          "output_type": "execute_result",
          "data": {
            "text/plain": [
              "0.28549382716049376"
            ]
          },
          "metadata": {},
          "execution_count": 15
        }
      ],
      "source": [
        "gini_index(df_right)"
      ]
    },
    {
      "cell_type": "code",
      "execution_count": 16,
      "id": "d4a7c2c4-802c-40b2-9f9a-d0c779b1d1d1",
      "metadata": {
        "id": "d4a7c2c4-802c-40b2-9f9a-d0c779b1d1d1",
        "outputId": "61200e94-079d-41ea-ea4e-9e11f48b6b02",
        "colab": {
          "base_uri": "https://localhost:8080/"
        }
      },
      "outputs": [
        {
          "output_type": "execute_result",
          "data": {
            "text/plain": [
              "0.5462962962962963"
            ]
          },
          "metadata": {},
          "execution_count": 16
        }
      ],
      "source": [
        "gini_imp = (df_left.shape[0] / df.shape[0]) * gini_index(df_left) + (df_right.shape[0] / df.shape[0]) * gini_index(df_right)\n",
        "gini_imp"
      ]
    },
    {
      "cell_type": "markdown",
      "id": "c3b6c0d8-5303-4c5d-94d4-6d0f883abd7a",
      "metadata": {
        "id": "c3b6c0d8-5303-4c5d-94d4-6d0f883abd7a"
      },
      "source": [
        "# 🎯 Repeat the process for the all 4 attributes and find the best split\n",
        "* You will try all the possible boundaries along all the features, i.e. all the axes petal width and sepal width.\n",
        "    * 💡 How to set the boundary?\n",
        "        * Select only the unique values of the chosen attribute (.unique() function)\n",
        "        * Sort the values (np.sort())\n",
        "        * Iterate over the array of the values, take every two consecutive numbers and compute their mean\n",
        "        * The mean is the current split boundary\n",
        "* For each split the algorithm will compute the **Gini impurity** of the two groups created.\n",
        "* 💡 Finally you will choose the decision boundary (best split) that gives the lowest Gini impurity for the two groups from all the 4 attbibutes\n",
        "\n",
        "### Results:\n",
        "* index = 0, Sepal Length < 5.45, Gini = 0.44\n",
        "* index = 1, Sepal Width < 3.35, Gini = 0.54\n",
        "* index = 2, Petal Length < 2.45, Gini = 0.33\n",
        "* index = 3, Petal Width < 0.80, Gini = 0.33\n",
        "\n",
        "* **Selected split:**\n",
        "    * **index = 2, Petal Length < 2.45, Gini = 0.33**\n",
        "    * ... or index = 3, Petal Width < 0.80, Gini = 0.33\n",
        "\n",
        "# 🔎 If we have only one split - how will the classification rule-set look like?"
      ]
    },
    {
      "cell_type": "code",
      "execution_count": null,
      "id": "f534f148-11aa-4121-acab-29363bac7fba",
      "metadata": {
        "id": "f534f148-11aa-4121-acab-29363bac7fba"
      },
      "outputs": [],
      "source": [
        "def print_splits(df: pd.DataFrame, column: str) -> None:\n",
        "    vals = np.sort(df[column].unique())\n",
        "    best = (0, 1)"
      ]
    },
    {
      "cell_type": "markdown",
      "id": "a20af5bd-014d-4782-9f6c-518b55141efc",
      "metadata": {
        "id": "a20af5bd-014d-4782-9f6c-518b55141efc"
      },
      "source": [
        "## sepal_length"
      ]
    },
    {
      "cell_type": "markdown",
      "id": "e4054ef8-9b42-448e-92b3-c8be3dbc694c",
      "metadata": {
        "id": "e4054ef8-9b42-448e-92b3-c8be3dbc694c"
      },
      "source": [
        "* Gini: 0.662, Boundary: 4.35\n",
        "* Gini: 0.648, Boundary: 4.45\n",
        "* Gini: 0.644, Boundary: 4.55\n",
        "* Gini: 0.624, Boundary: 4.65\n",
        "* Gini: 0.614, Boundary: 4.75\n",
        "* Gini: 0.587, Boundary: 4.85\n",
        "* Gini: 0.581, Boundary: 4.95\n",
        "* Gini: 0.547, Boundary: 5.05\n",
        "* Gini: 0.498, Boundary: 5.15\n",
        "* Gini: 0.482, Boundary: 5.25\n",
        "* Gini: 0.474, Boundary: 5.35\n",
        "* Gini: 0.439, Boundary: 5.45\n",
        "* Gini: 0.449, Boundary: 5.55\n",
        "* Gini: 0.475, Boundary: 5.65\n",
        "* Gini: 0.475, Boundary: 5.75\n",
        "* Gini: 0.492, Boundary: 5.85\n",
        "* Gini: 0.500, Boundary: 5.95\n",
        "* Gini: 0.512, Boundary: 6.05\n",
        "* Gini: 0.520, Boundary: 6.15\n",
        "* Gini: 0.528, Boundary: 6.25\n",
        "* Gini: 0.558, Boundary: 6.35\n",
        "* Gini: 0.580, Boundary: 6.45\n",
        "* Gini: 0.598, Boundary: 6.55\n",
        "* Gini: 0.591, Boundary: 6.65\n",
        "* Gini: 0.603, Boundary: 6.75\n",
        "* Gini: 0.608, Boundary: 6.85\n",
        "* Gini: 0.617, Boundary: 6.95\n",
        "* Gini: 0.609, Boundary: 7.05\n",
        "* Gini: 0.614, Boundary: 7.15\n",
        "* Gini: 0.629, Boundary: 7.25\n",
        "* Gini: 0.634, Boundary: 7.35\n",
        "* Gini: 0.639, Boundary: 7.50\n",
        "* Gini: 0.644, Boundary: 7.65\n",
        "* Gini: 0.662, Boundary: 7.80\n",
        "* Best -> Gini: 0.439, Boundary: 5.45"
      ]
    },
    {
      "cell_type": "code",
      "execution_count": null,
      "id": "44a3e1d0-6ff6-4632-9d8d-6a321777b2c4",
      "metadata": {
        "id": "44a3e1d0-6ff6-4632-9d8d-6a321777b2c4"
      },
      "outputs": [],
      "source": [
        "print_splits(df, 'sepal_length')"
      ]
    },
    {
      "cell_type": "markdown",
      "id": "3881d935-4582-44ed-9346-b9bc5a64e762",
      "metadata": {
        "id": "3881d935-4582-44ed-9346-b9bc5a64e762"
      },
      "source": [
        "## sepal_width"
      ]
    },
    {
      "cell_type": "code",
      "execution_count": null,
      "id": "e768d0b1-4aff-4caf-b284-2d69c77f8512",
      "metadata": {
        "id": "e768d0b1-4aff-4caf-b284-2d69c77f8512"
      },
      "outputs": [],
      "source": [
        "print_splits(df, 'sepal_width')"
      ]
    },
    {
      "cell_type": "markdown",
      "id": "945b4908-8d83-4bd5-9834-71ff6a7a5c38",
      "metadata": {
        "id": "945b4908-8d83-4bd5-9834-71ff6a7a5c38"
      },
      "source": [
        "## petal_length"
      ]
    },
    {
      "cell_type": "code",
      "execution_count": null,
      "id": "172fa8b7-7750-4026-b722-615bc908e7fa",
      "metadata": {
        "id": "172fa8b7-7750-4026-b722-615bc908e7fa"
      },
      "outputs": [],
      "source": [
        "print_splits(df, 'petal_length')"
      ]
    },
    {
      "cell_type": "markdown",
      "id": "de4948cf-9b66-4b94-b9af-db330b8c061a",
      "metadata": {
        "id": "de4948cf-9b66-4b94-b9af-db330b8c061a"
      },
      "source": [
        "## petal_width"
      ]
    },
    {
      "cell_type": "code",
      "execution_count": null,
      "id": "26d2b561-0a51-4217-b6f1-7686c6d67671",
      "metadata": {
        "id": "26d2b561-0a51-4217-b6f1-7686c6d67671"
      },
      "outputs": [],
      "source": [
        "print_splits(df, 'petal_width')"
      ]
    },
    {
      "cell_type": "markdown",
      "id": "2042a76e-da61-4822-a321-179b1c5979be",
      "metadata": {
        "id": "2042a76e-da61-4822-a321-179b1c5979be"
      },
      "source": [
        "# 🎯 Split the data using the selected split criterion\n",
        "* 💡 **Use the one using petal_length 😊**\n",
        "\n",
        "1) Repeat the whole process one more time for the part of the data with more than 1 class\n",
        "   \n",
        "2) Find the best split again\n",
        "\n",
        "3) Draw the decision tree with the two defined levels you have created this way\n",
        "    * You can use any graphic editor you like, even the MS Paint 😃"
      ]
    },
    {
      "cell_type": "code",
      "execution_count": null,
      "id": "aef5d44f-f45a-4bbd-aa40-dc226e7eba12",
      "metadata": {
        "id": "aef5d44f-f45a-4bbd-aa40-dc226e7eba12"
      },
      "outputs": [],
      "source": [
        "# df_petal_left = ...\n",
        "# df_petal_right = ..."
      ]
    },
    {
      "cell_type": "code",
      "execution_count": null,
      "id": "b743f4a3-88d1-4141-8ee3-96d4c6357cb6",
      "metadata": {
        "id": "b743f4a3-88d1-4141-8ee3-96d4c6357cb6"
      },
      "outputs": [],
      "source": [
        "df_petal_left.species.value_counts()"
      ]
    },
    {
      "cell_type": "code",
      "execution_count": null,
      "id": "215b98ef-75e8-4b38-be1c-cab256f222a3",
      "metadata": {
        "id": "215b98ef-75e8-4b38-be1c-cab256f222a3"
      },
      "outputs": [],
      "source": [
        "df_petal_right.species.value_counts()"
      ]
    },
    {
      "cell_type": "code",
      "execution_count": null,
      "id": "96cb987c-9039-4479-902d-6287971d2af6",
      "metadata": {
        "id": "96cb987c-9039-4479-902d-6287971d2af6"
      },
      "outputs": [],
      "source": [
        "for c in df_petal_right.columns[:-1]:\n",
        "    print(f'{c}')\n",
        "    print_splits(df_petal_right, c)\n",
        "    print(''.join(['-' for _ in range(50)]))"
      ]
    },
    {
      "cell_type": "markdown",
      "id": "2fef2e5d-124c-4bca-afdc-fa44df8b46a3",
      "metadata": {
        "id": "2fef2e5d-124c-4bca-afdc-fa44df8b46a3"
      },
      "source": [
        "# 📊 Introduction to the scikit-learn (Sklearn) library\n",
        "* Open source library for predictive data analysis. Contains algorithms for classification, clustering and others.\n",
        "\n",
        "![meme01](https://github.com/rasvob/VSB-FEI-Fundamentals-of-Machine-Learning-Exercises/blob/master/images/fml_07_meme_01.jpg?raw=true)\n",
        "\n",
        "- Decision tree https://scikit-learn.org/stable/modules/generated/sklearn.tree.DecisionTreeClassifier.html\n",
        "- Train test split https://scikit-learn.org/stable/modules/generated/sklearn.model_selection.train_test_split.html\n",
        "- Accuracy https://scikit-learn.org/stable/modules/generated/sklearn.metrics.accuracy_score.html"
      ]
    },
    {
      "cell_type": "code",
      "execution_count": null,
      "id": "be61fad6-a531-47be-9f33-4a1ba0da6950",
      "metadata": {
        "id": "be61fad6-a531-47be-9f33-4a1ba0da6950"
      },
      "outputs": [],
      "source": [
        "from sklearn.tree import DecisionTreeClassifier, export_text, plot_tree\n",
        "from sklearn.model_selection import train_test_split\n",
        "from sklearn.metrics import accuracy_score"
      ]
    },
    {
      "cell_type": "markdown",
      "id": "8f2ee01e-a17e-41bc-8706-cb7acabb6787",
      "metadata": {
        "id": "8f2ee01e-a17e-41bc-8706-cb7acabb6787"
      },
      "source": [
        "# Let's start with splitting the data into the input and output part\n",
        "* 💡 Usually named as a *X* and *y* variables"
      ]
    },
    {
      "cell_type": "code",
      "execution_count": null,
      "id": "2257c875-3070-4153-8ec8-76bdb40b0d67",
      "metadata": {
        "id": "2257c875-3070-4153-8ec8-76bdb40b0d67"
      },
      "outputs": [],
      "source": [
        "# X, y = ..."
      ]
    },
    {
      "cell_type": "code",
      "execution_count": null,
      "id": "1ea2ff8e-1857-4490-a373-03009419bd5d",
      "metadata": {
        "id": "1ea2ff8e-1857-4490-a373-03009419bd5d"
      },
      "outputs": [],
      "source": [
        "X.head()"
      ]
    },
    {
      "cell_type": "code",
      "execution_count": null,
      "id": "411cfe95-46ef-4f0c-9b05-0814a4d4f3a0",
      "metadata": {
        "id": "411cfe95-46ef-4f0c-9b05-0814a4d4f3a0"
      },
      "outputs": [],
      "source": [
        "y.head()"
      ]
    },
    {
      "cell_type": "markdown",
      "id": "19178e66-00d6-4009-992d-e6ac171865bc",
      "metadata": {
        "id": "19178e66-00d6-4009-992d-e6ac171865bc"
      },
      "source": [
        "# What is the size of our data?"
      ]
    },
    {
      "cell_type": "code",
      "execution_count": null,
      "id": "22b6a5d8-b00c-4f5f-b845-f7eacb417e5e",
      "metadata": {
        "id": "22b6a5d8-b00c-4f5f-b845-f7eacb417e5e"
      },
      "outputs": [],
      "source": [
        "X.shape, y.shape"
      ]
    },
    {
      "cell_type": "markdown",
      "id": "50d3479c-173a-486e-a359-01335268b4f5",
      "metadata": {
        "id": "50d3479c-173a-486e-a359-01335268b4f5"
      },
      "source": [
        "## 🔎 Doing evaluation process for every classification or regressions task is mandatory\n",
        "* Do you know how to evaluate models?\n",
        "* Do you know **train test split** method for evaluation?\n",
        "* Do you know any **different** evaluation process?"
      ]
    },
    {
      "cell_type": "markdown",
      "id": "53036baf-2105-45be-84fd-53cc7aeecb6b",
      "metadata": {
        "id": "53036baf-2105-45be-84fd-53cc7aeecb6b"
      },
      "source": [
        "## Lets continue with train test split process. Split dataset to train:test ratio 60:40. Check how many records/rows do you have in splitted variables.\n",
        "* 💡 Number of rows in the *X* and *y* in the Train/Test part of the data has to be equal"
      ]
    },
    {
      "cell_type": "code",
      "execution_count": null,
      "id": "e6d81bb3-e0e8-412f-939c-55c460976077",
      "metadata": {
        "id": "e6d81bb3-e0e8-412f-939c-55c460976077"
      },
      "outputs": [],
      "source": []
    },
    {
      "cell_type": "markdown",
      "id": "9f0188db-498f-40e1-a755-7ad744f16375",
      "metadata": {
        "id": "9f0188db-498f-40e1-a755-7ad744f16375"
      },
      "source": [
        "## Take a look on data in variable y_test\n",
        "- Can you detect how many elements of each class is represented in test split?"
      ]
    },
    {
      "cell_type": "code",
      "execution_count": null,
      "id": "6537945a-4b29-4649-958a-398a74e82420",
      "metadata": {
        "id": "6537945a-4b29-4649-958a-398a74e82420"
      },
      "outputs": [],
      "source": [
        "pd.Series(y_test).value_counts()"
      ]
    },
    {
      "cell_type": "markdown",
      "id": "b4dd1830-fd70-4d83-a7b0-25f1f12b1f59",
      "metadata": {
        "id": "b4dd1830-fd70-4d83-a7b0-25f1f12b1f59"
      },
      "source": [
        "# 🚀 Create the Decision tree classifier instance"
      ]
    },
    {
      "cell_type": "code",
      "execution_count": null,
      "id": "7a0cde27-cd89-424d-87a5-8720546d2f90",
      "metadata": {
        "id": "7a0cde27-cd89-424d-87a5-8720546d2f90"
      },
      "outputs": [],
      "source": []
    },
    {
      "cell_type": "markdown",
      "id": "c2f1b95c-308b-4a25-9d99-a3a47b796720",
      "metadata": {
        "id": "c2f1b95c-308b-4a25-9d99-a3a47b796720"
      },
      "source": [
        "## 💡 Use *fit()* method for training of classifier"
      ]
    },
    {
      "cell_type": "code",
      "execution_count": null,
      "id": "e2fbb2e6-12b0-460e-9457-c12066425f87",
      "metadata": {
        "id": "e2fbb2e6-12b0-460e-9457-c12066425f87"
      },
      "outputs": [],
      "source": []
    },
    {
      "cell_type": "markdown",
      "id": "a8b70c69-f460-4fc9-8c07-7122bbd4c8a9",
      "metadata": {
        "id": "a8b70c69-f460-4fc9-8c07-7122bbd4c8a9"
      },
      "source": [
        "## Lets use trained model for the prediction part\n",
        "* 💡 Get predictions via the method *predict()*"
      ]
    },
    {
      "cell_type": "code",
      "execution_count": null,
      "id": "33bcfaf7-5c8e-4c7b-9d9c-aca6edfbd92a",
      "metadata": {
        "id": "33bcfaf7-5c8e-4c7b-9d9c-aca6edfbd92a"
      },
      "outputs": [],
      "source": []
    },
    {
      "cell_type": "markdown",
      "id": "c3791870-d3b6-4fd7-91c5-67a9424c7888",
      "metadata": {
        "id": "c3791870-d3b6-4fd7-91c5-67a9424c7888"
      },
      "source": [
        "# 🔎 Can we evaluate our model?\n",
        "* How good is it?\n",
        "* What does accuracy mean?"
      ]
    },
    {
      "cell_type": "code",
      "execution_count": null,
      "id": "27d1b774-53ba-4ae6-88a6-8c42c64a9220",
      "metadata": {
        "id": "27d1b774-53ba-4ae6-88a6-8c42c64a9220"
      },
      "outputs": [],
      "source": []
    },
    {
      "cell_type": "markdown",
      "id": "9485e5c7-e2a7-40bb-9105-32121aadd6b2",
      "metadata": {
        "id": "9485e5c7-e2a7-40bb-9105-32121aadd6b2"
      },
      "source": [
        "## How does the trained Decision tree look like?"
      ]
    },
    {
      "cell_type": "markdown",
      "id": "55a9eb03-cf24-40b1-bebf-9144028877a1",
      "metadata": {
        "id": "55a9eb03-cf24-40b1-bebf-9144028877a1"
      },
      "source": [
        "### We can use either text representation as follows..."
      ]
    },
    {
      "cell_type": "code",
      "execution_count": null,
      "id": "09263452-a660-4933-bd36-01eca1e54d81",
      "metadata": {
        "id": "09263452-a660-4933-bd36-01eca1e54d81"
      },
      "outputs": [],
      "source": [
        "print(export_text(clf, show_weights=True, feature_names=list(X.columns.values)))"
      ]
    },
    {
      "cell_type": "markdown",
      "id": "282b0d26-9255-4113-bcc2-014ae75550b9",
      "metadata": {
        "id": "282b0d26-9255-4113-bcc2-014ae75550b9"
      },
      "source": [
        "### ...or more convinient graphical diagram 😊"
      ]
    },
    {
      "cell_type": "code",
      "execution_count": null,
      "id": "94a0eeb2-757d-47d3-aae1-6d2c8afd8bce",
      "metadata": {
        "id": "94a0eeb2-757d-47d3-aae1-6d2c8afd8bce"
      },
      "outputs": [],
      "source": [
        "fig = plt.figure(figsize=(25,20))\n",
        "_ = plot_tree(clf, feature_names=list(X.columns.values), filled=True, class_names=clf.classes_)"
      ]
    },
    {
      "cell_type": "markdown",
      "id": "4a65dc8f-cb95-40d7-ba81-c779df06e77b",
      "metadata": {
        "tags": [],
        "id": "4a65dc8f-cb95-40d7-ba81-c779df06e77b"
      },
      "source": [
        "# ✅ Task (2p)\n",
        "* Finish the implementation task from the exercise"
      ]
    }
  ],
  "metadata": {
    "kernelspec": {
      "display_name": "Python 3 (ipykernel)",
      "language": "python",
      "name": "python3"
    },
    "language_info": {
      "codemirror_mode": {
        "name": "ipython",
        "version": 3
      },
      "file_extension": ".py",
      "mimetype": "text/x-python",
      "name": "python",
      "nbconvert_exporter": "python",
      "pygments_lexer": "ipython3",
      "version": "3.12.0"
    },
    "colab": {
      "provenance": []
    }
  },
  "nbformat": 4,
  "nbformat_minor": 5
}